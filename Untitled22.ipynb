{
 "cells": [
  {
   "cell_type": "code",
   "execution_count": 17,
   "id": "fa7d01c5-7281-48a9-b313-6d6428db8f37",
   "metadata": {},
   "outputs": [
    {
     "name": "stdin",
     "output_type": "stream",
     "text": [
      "Masukkan nama:  sonia\n",
      "Masukkan NIM:  06500240046\n",
      "Masukkan tahun masuk:  2024\n"
     ]
    },
    {
     "name": "stdout",
     "output_type": "stream",
     "text": [
      "Nama: sonia\n",
      "NIM: 06500240046\n",
      "year: 2024\n"
     ]
    }
   ],
   "source": [
    "class mahasiswa:\n",
    "    bioCount = 0\n",
    "    def __init__(self, name, nim, year): \n",
    "        self.name = name\n",
    "        self.nim = nim\n",
    "        self.year = year\n",
    "        mahasiswa.bioCount += 1\n",
    "    def displayCount(self):\n",
    "        print(\"Total Mahasiswa %d\" % mahasiswa.bioCount)\n",
    "    def tampilkan_biodata(self):\n",
    "        print(f\"Nama: {self.name}\")\n",
    "        print(f\"NIM: {self.nim}\")\n",
    "        print(f\"year: {self.year}\")\n",
    "        \n",
    "name1 = input(\"Masukkan nama: \")\n",
    "nim1 = input(\"Masukkan NIM: \")\n",
    "year1 = input(\"Masukkan tahun masuk: \")\n",
    "mhs1 = mahasiswa(name1, nim1, year1)\n",
    "mhs1.tampilkan_biodata()\n"
   ]
  },
  {
   "cell_type": "code",
   "execution_count": null,
   "id": "b152ebe1-d2d3-4e36-bc9a-50a547a78fee",
   "metadata": {},
   "outputs": [],
   "source": []
  }
 ],
 "metadata": {
  "kernelspec": {
   "display_name": "Python 3 (ipykernel)",
   "language": "python",
   "name": "python3"
  },
  "language_info": {
   "codemirror_mode": {
    "name": "ipython",
    "version": 3
   },
   "file_extension": ".py",
   "mimetype": "text/x-python",
   "name": "python",
   "nbconvert_exporter": "python",
   "pygments_lexer": "ipython3",
   "version": "3.12.4"
  }
 },
 "nbformat": 4,
 "nbformat_minor": 5
}
