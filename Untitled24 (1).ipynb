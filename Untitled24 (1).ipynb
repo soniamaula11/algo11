{
 "cells": [
  {
   "cell_type": "code",
   "execution_count": null,
   "id": "ab6c3d2e-9e30-4df5-b024-f784ef56bd4e",
   "metadata": {},
   "outputs": [
    {
     "name": "stdout",
     "output_type": "stream",
     "text": [
      "\n",
      "=====Program OOP========\n",
      "1. Deklarasi Data\n",
      "2. Menampilkan Data\n",
      "3. Mengubah Data\n",
      "4. Menghapus Data\n",
      "5. Keluar Aplikasi\n"
     ]
    },
    {
     "name": "stdin",
     "output_type": "stream",
     "text": [
      "Masukkan pilihan (1/2/3/4/5):  1\n",
      "Masukkan nama:  sonia\n",
      "Masukkan nilai:  100\n"
     ]
    },
    {
     "name": "stdout",
     "output_type": "stream",
     "text": [
      "Data berhasil dideklarasikan!\n",
      "\n",
      "=====Program OOP========\n",
      "1. Deklarasi Data\n",
      "2. Menampilkan Data\n",
      "3. Mengubah Data\n",
      "4. Menghapus Data\n",
      "5. Keluar Aplikasi\n"
     ]
    },
    {
     "name": "stdin",
     "output_type": "stream",
     "text": [
      "Masukkan pilihan (1/2/3/4/5):  2\n"
     ]
    },
    {
     "name": "stdout",
     "output_type": "stream",
     "text": [
      "sonia\n",
      "100\n",
      "\n",
      "=====Program OOP========\n",
      "1. Deklarasi Data\n",
      "2. Menampilkan Data\n",
      "3. Mengubah Data\n",
      "4. Menghapus Data\n",
      "5. Keluar Aplikasi\n"
     ]
    },
    {
     "name": "stdin",
     "output_type": "stream",
     "text": [
      "Masukkan pilihan (1/2/3/4/5):  3\n",
      "Apa yang ingin diubah? (Nama/Nilai):  nama\n",
      "Masukkan nama baru:  maula\n"
     ]
    },
    {
     "name": "stdout",
     "output_type": "stream",
     "text": [
      "Nama berhasil diubah!\n",
      "\n",
      "=====Program OOP========\n",
      "1. Deklarasi Data\n",
      "2. Menampilkan Data\n",
      "3. Mengubah Data\n",
      "4. Menghapus Data\n",
      "5. Keluar Aplikasi\n"
     ]
    },
    {
     "name": "stdin",
     "output_type": "stream",
     "text": [
      "Masukkan pilihan (1/2/3/4/5):  1\n",
      "Masukkan nama:  soniamaula\n",
      "Masukkan nilai:  100\n"
     ]
    },
    {
     "name": "stdout",
     "output_type": "stream",
     "text": [
      "Data berhasil dideklarasikan!\n",
      "\n",
      "=====Program OOP========\n",
      "1. Deklarasi Data\n",
      "2. Menampilkan Data\n",
      "3. Mengubah Data\n",
      "4. Menghapus Data\n",
      "5. Keluar Aplikasi\n"
     ]
    },
    {
     "name": "stdin",
     "output_type": "stream",
     "text": [
      "Masukkan pilihan (1/2/3/4/5):  3\n",
      "Apa yang ingin diubah? (Nama/Nilai):  nama\n",
      "Masukkan nama baru:  maulaaa\n"
     ]
    },
    {
     "name": "stdout",
     "output_type": "stream",
     "text": [
      "Nama berhasil diubah!\n",
      "\n",
      "=====Program OOP========\n",
      "1. Deklarasi Data\n",
      "2. Menampilkan Data\n",
      "3. Mengubah Data\n",
      "4. Menghapus Data\n",
      "5. Keluar Aplikasi\n"
     ]
    },
    {
     "name": "stdin",
     "output_type": "stream",
     "text": [
      "Masukkan pilihan (1/2/3/4/5):  2\n"
     ]
    },
    {
     "name": "stdout",
     "output_type": "stream",
     "text": [
      "maulaaa\n",
      "100\n",
      "\n",
      "=====Program OOP========\n",
      "1. Deklarasi Data\n",
      "2. Menampilkan Data\n",
      "3. Mengubah Data\n",
      "4. Menghapus Data\n",
      "5. Keluar Aplikasi\n"
     ]
    }
   ],
   "source": [
    "class Data:\n",
    "    def __init__(self):\n",
    "        self.__name = None\n",
    "        self.__value = None\n",
    "\n",
    "    # Getter for name\n",
    "    def get_name(self):\n",
    "        return self.__name\n",
    "\n",
    "    # Setter for name\n",
    "    def set_name(self, name):\n",
    "        self.__name = name\n",
    "\n",
    "    # Getter for value\n",
    "    def get_value(self):\n",
    "        return self.__value\n",
    "\n",
    "    # Setter for value\n",
    "    def set_value(self, value):\n",
    "        self.__value = value\n",
    "\n",
    "    # Method to clear data\n",
    "    def clear_data(self):\n",
    "        self.__name = None\n",
    "        self.__value = None\n",
    "\n",
    "\n",
    "def main():\n",
    "    data = Data()  # Create an instance of Data class\n",
    "\n",
    "    while True:\n",
    "        print(\"\\n=====Program OOP========\")\n",
    "        print(\"1. Deklarasi Data\")\n",
    "        print(\"2. Menampilkan Data\")\n",
    "        print(\"3. Mengubah Data\")\n",
    "        print(\"4. Menghapus Data\")\n",
    "        print(\"5. Keluar Aplikasi\")\n",
    "        \n",
    "        try:\n",
    "            choice = int(input(\"Masukkan pilihan (1/2/3/4/5): \"))\n",
    "        except ValueError:\n",
    "            print(\"Masukkan angka valid!\")\n",
    "            continue\n",
    "\n",
    "        if choice == 1:\n",
    "            name = input(\"Masukkan nama: \")\n",
    "            try:\n",
    "                value = int(input(\"Masukkan nilai: \"))\n",
    "            except ValueError:\n",
    "                print(\"Nilai harus berupa angka!\")\n",
    "                continue\n",
    "            data.set_name(name)\n",
    "            data.set_value(value)\n",
    "            print(\"Data berhasil dideklarasikan!\")\n",
    "\n",
    "        elif choice == 2:\n",
    "            name = data.get_name()\n",
    "            value = data.get_value()\n",
    "            if name is None or value is None:\n",
    "                print(\"Data kosong.\")\n",
    "            else:\n",
    "                print(name)\n",
    "                print(value)\n",
    "\n",
    "        elif choice == 3:\n",
    "            if data.get_name() is None and data.get_value() is None:\n",
    "                print(\"Data kosong, tidak ada yang bisa diubah.\")\n",
    "            else:\n",
    "                to_edit = input(\"Apa yang ingin diubah? (Nama/Nilai): \").strip().lower()\n",
    "                if to_edit == \"nama\":\n",
    "                    new_name = input(\"Masukkan nama baru: \")\n",
    "                    data.set_name(new_name)\n",
    "                    print(\"Nama berhasil diubah!\")\n",
    "                elif to_edit == \"nilai\":\n",
    "                    try:\n",
    "                        new_value = int(input(\"Masukkan nilai baru: \"))\n",
    "                        data.set_value(new_value)\n",
    "                        print(\"Nilai berhasil diubah!\")\n",
    "                    except ValueError:\n",
    "                        print(\"Nilai harus berupa angka!\")\n",
    "                else:\n",
    "                    print(\"Pilihan tidak valid.\")\n",
    "\n",
    "        elif choice == 4:\n",
    "            confirm = input(\"Apakah Anda yakin ingin menghapus data? (y/n): \").strip().lower()\n",
    "            if confirm == 'y':\n",
    "                data.clear_data()\n",
    "                print(\"Data berhasil dihapus!\")\n",
    "            else:\n",
    "                print(\"Penghapusan data dibatalkan.\")\n",
    "\n",
    "        elif choice == 5:\n",
    "            print(\"Keluar dari aplikasi. Terima kasih!\")\n",
    "            break\n",
    "\n",
    "        else:\n",
    "            print(\"Pilihan tidak valid. Masukkan angka antara 1-5.\")\n",
    "\n",
    "\n",
    "if __name__ == \"__main__\":\n",
    "    main()\n"
   ]
  },
  {
   "cell_type": "code",
   "execution_count": null,
   "id": "9392e0ed-9197-44a5-b9cb-9e911dcb37a6",
   "metadata": {},
   "outputs": [],
   "source": []
  }
 ],
 "metadata": {
  "kernelspec": {
   "display_name": "Python 3 (ipykernel)",
   "language": "python",
   "name": "python3"
  },
  "language_info": {
   "codemirror_mode": {
    "name": "ipython",
    "version": 3
   },
   "file_extension": ".py",
   "mimetype": "text/x-python",
   "name": "python",
   "nbconvert_exporter": "python",
   "pygments_lexer": "ipython3",
   "version": "3.12.4"
  }
 },
 "nbformat": 4,
 "nbformat_minor": 5
}
